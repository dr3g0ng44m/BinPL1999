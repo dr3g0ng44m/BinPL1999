{
  "nbformat": 4,
  "nbformat_minor": 0,
  "metadata": {
    "colab": {
      "name": "PhiLongDIP1.ipynb",
      "provenance": [],
      "private_outputs": true,
      "collapsed_sections": [],
      "authorship_tag": "ABX9TyNk6XkqajSYnVwa8hVHMVoa",
      "include_colab_link": true
    },
    "kernelspec": {
      "name": "python3",
      "display_name": "Python 3"
    },
    "accelerator": "GPU"
  },
  "cells": [
    {
      "cell_type": "markdown",
      "metadata": {
        "id": "view-in-github",
        "colab_type": "text"
      },
      "source": [
        "<a href=\"https://colab.research.google.com/github/dr3g0ng44m/BinPL1999/blob/master/PhiLongDIP1.ipynb\" target=\"_parent\"><img src=\"https://colab.research.google.com/assets/colab-badge.svg\" alt=\"Open In Colab\"/></a>"
      ]
    },
    {
      "cell_type": "code",
      "metadata": {
        "id": "nw13607juvvu"
      },
      "source": [
        "!pip install https://files.pythonhosted.org/packages/38/53/914885a93a44b96c0dd1c36f36ff10afe341f091230aad68f7228d61db1e/torch-1.6.0-cp36-cp36m-manylinux1_x86_64.whl\n",
        "!pip install torchvision"
      ],
      "execution_count": null,
      "outputs": []
    },
    {
      "cell_type": "code",
      "metadata": {
        "id": "I6S2L1sA71bG"
      },
      "source": [
        "import numpy as np\n",
        "import torch\n",
        "import torch.nn as nn\n",
        "import torch.nn.functional as F\n",
        "\n",
        "x = torch.randn([256, 1, 3, 3, 3])\n",
        "sobel = [[1, 2, 1], [0, 0, 0], [-1, -2, -1]]\n",
        "depth = x.size()[1]\n",
        "channels = x.size()[2]\n",
        "sobel_kernel = torch.tensor(sobel, dtype=torch.float32).unsqueeze(0).expand(256, 1, channels, 3, 3)\n",
        "#print(depth, channels)\n",
        "#print(sobel_kernel)\n",
        "print(sobel_kernel.shape)\n",
        "malignacy = F.conv3d(x, sobel_kernel, stride=1, padding=1, groups=x.size(1))\n",
        "print(malignacy.shape)\n"
      ],
      "execution_count": null,
      "outputs": []
    }
  ]
}