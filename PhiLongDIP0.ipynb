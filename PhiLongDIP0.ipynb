{
  "nbformat": 4,
  "nbformat_minor": 0,
  "metadata": {
    "colab": {
      "name": "PhiLongDIP0.ipynb",
      "provenance": [],
      "authorship_tag": "ABX9TyOjbxb265Ii1t+wMWPW8rT1",
      "include_colab_link": true
    },
    "kernelspec": {
      "name": "python3",
      "display_name": "Python 3"
    }
  },
  "cells": [
    {
      "cell_type": "markdown",
      "metadata": {
        "id": "view-in-github",
        "colab_type": "text"
      },
      "source": [
        "<a href=\"https://colab.research.google.com/github/dr3g0ng44m/BinPL1999/blob/master/PhiLongDIP0.ipynb\" target=\"_parent\"><img src=\"https://colab.research.google.com/assets/colab-badge.svg\" alt=\"Open In Colab\"/></a>"
      ]
    },
    {
      "cell_type": "markdown",
      "metadata": {
        "id": "8uq3LcoTK-vw"
      },
      "source": [
        "# **Bài Tập**\n",
        "- Thực thi 4 hàm transformation.\n",
        "- Cho ảnh gốc P1 và ảnh chứa histogram mong muốn P2, tìm cách biến đổi P1 thành P2."
      ]
    },
    {
      "cell_type": "code",
      "metadata": {
        "id": "yYnUnjNMKyvN"
      },
      "source": [
        ""
      ],
      "execution_count": null,
      "outputs": []
    }
  ]
}