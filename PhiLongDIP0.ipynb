{
  "nbformat": 4,
  "nbformat_minor": 0,
  "metadata": {
    "colab": {
      "name": "PhiLongDIP0.ipynb",
      "provenance": [],
      "toc_visible": true,
      "authorship_tag": "ABX9TyPx8vnVdOISz/Oki4Poh2jT",
      "include_colab_link": true
    },
    "kernelspec": {
      "name": "python3",
      "display_name": "Python 3"
    }
  },
  "cells": [
    {
      "cell_type": "markdown",
      "metadata": {
        "id": "view-in-github",
        "colab_type": "text"
      },
      "source": [
        "<a href=\"https://colab.research.google.com/github/dr3g0ng44m/BinPL1999/blob/master/PhiLongDIP0.ipynb\" target=\"_parent\"><img src=\"https://colab.research.google.com/assets/colab-badge.svg\" alt=\"Open In Colab\"/></a>"
      ]
    },
    {
      "cell_type": "markdown",
      "metadata": {
        "id": "8uq3LcoTK-vw"
      },
      "source": [
        "# **Bài Tập**\n",
        "- Thực thi 4 hàm transformation.\n",
        "- Cho ảnh gốc P1 và ảnh chứa histogram mong muốn P2, tìm cách biến đổi P1 thành P2."
      ]
    },
    {
      "cell_type": "code",
      "metadata": {
        "id": "yYnUnjNMKyvN",
        "outputId": "80d92d50-17bb-4248-854e-09033567a50f",
        "colab": {
          "base_uri": "https://localhost:8080/",
          "height": 547
        }
      },
      "source": [
        "import cv2\n",
        "import numpy as np\n",
        "from matplotlib import pyplot as plt\n",
        "\n",
        "img0 = cv2.imread('/DIPpicture1.jpg',0)\n",
        "print(img0.ravel())\n",
        "plt.hist(img0.ravel(),256,[0,256]); plt.show()\n",
        "\n",
        "img1 = cv2.imread('/DIPpicture0.jpg',0)\n",
        "print(img1.ravel())\n",
        "plt.hist(img1.ravel(),256,[0,256]); plt.show()"
      ],
      "execution_count": 6,
      "outputs": [
        {
          "output_type": "stream",
          "text": [
            "[  0   0   0 ... 218 207 206]\n"
          ],
          "name": "stdout"
        },
        {
          "output_type": "display_data",
          "data": {
            "image/png": "[encoded data removed]",
            "text/plain": [
              "<Figure size 432x288 with 1 Axes>"
            ]
          },
          "metadata": {
            "tags": [],
            "needs_background": "light"
          }
        },
        {
          "output_type": "stream",
          "text": [
            "[ 94  86  92 ... 123 121 121]\n"
          ],
          "name": "stdout"
        },
        {
          "output_type": "display_data",
          "data": {
            "image/png": "[encoded data removed]",
            "text/plain": [
              "<Figure size 432x288 with 1 Axes>"
            ]
          },
          "metadata": {
            "tags": [],
            "needs_background": "light"
          }
        }
      ]
    }
  ]
}